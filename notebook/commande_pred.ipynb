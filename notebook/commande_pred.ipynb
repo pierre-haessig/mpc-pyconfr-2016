{
 "cells": [
  {
   "cell_type": "markdown",
   "metadata": {},
   "source": [
    "# Optimal thermal control with linprog\n",
    "\n",
    "Pierre Haessig, May 2016"
   ]
  },
  {
   "cell_type": "code",
   "execution_count": null,
   "metadata": {
    "collapsed": true
   },
   "outputs": [],
   "source": [
    "from __future__ import unicode_literals, print_function, division"
   ]
  },
  {
   "cell_type": "code",
   "execution_count": null,
   "metadata": {
    "collapsed": false
   },
   "outputs": [],
   "source": [
    "import numpy as np\n",
    "import cvxpy as cx\n",
    "cx.__version__"
   ]
  },
  {
   "cell_type": "markdown",
   "metadata": {},
   "source": [
    "notice: the cvxpy API may change in the forthcoming 1.0 version (cf. [issue #199](https://github.com/cvxgrp/cvxpy/issues/199))"
   ]
  },
  {
   "cell_type": "code",
   "execution_count": null,
   "metadata": {
    "collapsed": true
   },
   "outputs": [],
   "source": [
    "import matplotlib as mpl\n",
    "import matplotlib.pyplot as plt\n",
    "%matplotlib inline"
   ]
  },
  {
   "cell_type": "code",
   "execution_count": null,
   "metadata": {
    "collapsed": false
   },
   "outputs": [],
   "source": [
    "mpl.style.use(['seaborn-deep', 'seaborn-whitegrid', 'seaborn-notebook'])\n",
    "mpl.rcParams['figure.figsize'] = [8, 3.5]  # thin plots for time series"
   ]
  },
  {
   "cell_type": "markdown",
   "metadata": {},
   "source": [
    "## Problem definition"
   ]
  },
  {
   "cell_type": "markdown",
   "metadata": {},
   "source": [
    "Load problem data. choice of units: hours, kW, Celsius degrees."
   ]
  },
  {
   "cell_type": "code",
   "execution_count": null,
   "metadata": {
    "collapsed": true
   },
   "outputs": [],
   "source": [
    "from therm_data import dt, C, R, P_max"
   ]
  },
  {
   "cell_type": "code",
   "execution_count": null,
   "metadata": {
    "collapsed": false
   },
   "outputs": [],
   "source": [
    "print('Timestep dt: {} h'.format(dt))\n",
    "print('Capacity C: {} kWh/K'.format(C))\n",
    "print('Resistance R: {} °C/kW'.format(R))\n",
    "print('P_max: {} kWh'.format(P_max))"
   ]
  },
  {
   "cell_type": "code",
   "execution_count": null,
   "metadata": {
    "collapsed": true
   },
   "outputs": [],
   "source": [
    "N_sim = int(24/dt)"
   ]
  },
  {
   "cell_type": "markdown",
   "metadata": {},
   "source": [
    "dynamics in discrete time (backward Euler), with timestep $\\Delta_t$ :\n",
    "\n",
    "$$T^+ = T + \\frac{\\Delta_t}{C} ( P - \\frac{T-T_{out}}{R} ) $$"
   ]
  },
  {
   "cell_type": "code",
   "execution_count": null,
   "metadata": {
    "collapsed": false
   },
   "outputs": [],
   "source": [
    "from therm_data import T0, T_out, occupancy, T_abs, T_pres"
   ]
  },
  {
   "cell_type": "code",
   "execution_count": null,
   "metadata": {
    "collapsed": false
   },
   "outputs": [],
   "source": [
    "t = np.arange(N_sim)*dt\n",
    "occ = occupancy(t)\n",
    "T_min = np.zeros(N_sim) + T_abs # °C\n",
    "T_min[occ] = T_pres"
   ]
  },
  {
   "cell_type": "markdown",
   "metadata": {},
   "source": [
    "## LP problem\n",
    "\n",
    "with hard temperature constraint $T ≥ T_{min}$"
   ]
  },
  {
   "cell_type": "markdown",
   "metadata": {},
   "source": [
    "Optimization variables:"
   ]
  },
  {
   "cell_type": "code",
   "execution_count": null,
   "metadata": {
    "collapsed": true
   },
   "outputs": [],
   "source": [
    "P = cx.Variable(N_sim)\n",
    "T = cx.Variable(N_sim)"
   ]
  },
  {
   "cell_type": "markdown",
   "metadata": {},
   "source": [
    "Objective: minimize total consumption"
   ]
  },
  {
   "cell_type": "code",
   "execution_count": null,
   "metadata": {
    "collapsed": false
   },
   "outputs": [],
   "source": [
    "objective = cx.Minimize(cx.sum_entries(P))\n",
    "objective"
   ]
  },
  {
   "cell_type": "markdown",
   "metadata": {},
   "source": [
    "Build the constraints"
   ]
  },
  {
   "cell_type": "code",
   "execution_count": null,
   "metadata": {
    "collapsed": false,
    "scrolled": true
   },
   "outputs": [],
   "source": [
    "# Heating limits:\n",
    "c_Pmin = P >= 0\n",
    "c_Pmax = P <= P_max\n",
    "constraints = [c_Pmin, c_Pmax]\n",
    "\n",
    "# min Temperature set point\n",
    "c_Tmin = T >= T_min\n",
    "constraints += [c_Tmin]\n",
    "\n",
    "# Temp dynamics\n",
    "deltaT = dt/C*(P[:-1] - (T[:-1]-T_out)/R)\n",
    "c_dyn = T[1:] == T[:-1] + deltaT\n",
    "constraints += [c_dyn]\n",
    "\n",
    "# Initial temperature\n",
    "c_T0 = T[0] == T0\n",
    "constraints += [c_T0]\n",
    "\n",
    "\n",
    "print('Constraints:')\n",
    "for c in constraints:\n",
    "    print(c.OP_NAME, end='')\n",
    "    print(' ' +  repr(c.args[0]))\n",
    "    print('   ' +  repr(c.args[1]))\n",
    "    print()"
   ]
  },
  {
   "cell_type": "markdown",
   "metadata": {},
   "source": [
    "Solve the Linear Program:"
   ]
  },
  {
   "cell_type": "code",
   "execution_count": null,
   "metadata": {
    "collapsed": false
   },
   "outputs": [],
   "source": [
    "prob = cx.Problem(objective, constraints)\n",
    "result = prob.solve()\n",
    "\n",
    "print('energy consum: {:.6f} kW avg'.format(result/N_sim))"
   ]
  },
  {
   "cell_type": "code",
   "execution_count": null,
   "metadata": {
    "collapsed": false
   },
   "outputs": [],
   "source": [
    "def plot_traj(t, T, T_out, T_min, P):\n",
    "    'plot of a simulation (temperature and heating)'\n",
    "    fig, (ax1, ax2) = plt.subplots(2,1, sharex=True, figsize=(6,4))\n",
    "    \n",
    "    ax1.plot(t, T_min, '--', label='T_min')\n",
    "    ax1.plot(t, T, label='T')\n",
    "    ax1.legend(loc='upper left')\n",
    "\n",
    "    ax2.plot(t, P, 'r')\n",
    "\n",
    "    ax1.set(\n",
    "        ylabel='Temp (°C)',\n",
    "        ylim=(T_abs-0.5, T_pres+0.5)\n",
    "    )\n",
    "    ax2.set(\n",
    "        xlabel='t (h)',\n",
    "        ylabel='P (kW)',\n",
    "        ylim=(P_max*-.05, P_max*1.05)\n",
    "    )\n",
    "    fig.tight_layout()\n",
    "    \n",
    "    return fig, (ax1, ax2)"
   ]
  },
  {
   "cell_type": "code",
   "execution_count": null,
   "metadata": {
    "collapsed": false
   },
   "outputs": [],
   "source": [
    "fig, _ = plot_traj(t, T.value, T_out, T_min, P.value);\n",
    "#fig.savefig('sim_linprog.pdf')"
   ]
  },
  {
   "cell_type": "markdown",
   "metadata": {},
   "source": [
    "Save result (and convert 2D column matrices into 1D arrays)"
   ]
  },
  {
   "cell_type": "code",
   "execution_count": null,
   "metadata": {
    "collapsed": true
   },
   "outputs": [],
   "source": [
    "np.savez('thermal_lp_sol.npz',\n",
    "         T = np.array(T.value)[:, 0], \n",
    "         P = np.array(P.value)[:, 0],\n",
    "         T_out = T_out,\n",
    "         T_min = T_min\n",
    "        )"
   ]
  },
  {
   "cell_type": "markdown",
   "metadata": {},
   "source": [
    "---\n",
    "\n",
    "\n",
    "## Relaxation of the min temperature constraint\n",
    "\n",
    "The min temperature constraint\n",
    "$$T ≥ T_{min} $$\n",
    "\n",
    "is replaced by\n",
    "\n",
    "$$ T ≥ T_{min} - T_{diff}$$\n",
    "where slack variable $T_{diff} ≥0$ is heavily penalized"
   ]
  },
  {
   "cell_type": "code",
   "execution_count": null,
   "metadata": {
    "collapsed": true
   },
   "outputs": [],
   "source": [
    "P_rlx = cx.Variable(N_sim)\n",
    "T_rlx = cx.Variable(N_sim)\n",
    "# new slack variable:\n",
    "T_diff = cx.Variable(N_sim)"
   ]
  },
  {
   "cell_type": "code",
   "execution_count": null,
   "metadata": {
    "collapsed": false
   },
   "outputs": [],
   "source": [
    "comfort_weight=10\n",
    "\n",
    "objective_rlx = cx.Minimize(cx.sum_entries(P_rlx) +\\\n",
    "                        comfort_weight*cx.sum_entries(T_diff))\n",
    "objective_rlx"
   ]
  },
  {
   "cell_type": "markdown",
   "metadata": {},
   "source": [
    "Build the constraints"
   ]
  },
  {
   "cell_type": "code",
   "execution_count": null,
   "metadata": {
    "collapsed": false,
    "scrolled": true
   },
   "outputs": [],
   "source": [
    "# Heating limits:\n",
    "constraints_rlx  = [P_rlx >= 0, P_rlx <= P_max]\n",
    "# min Temperature set point, RELAXED\n",
    "constraints_rlx  += [T_rlx >= T_min - T_diff]\n",
    "constraints_rlx  += [T_diff >= 0]\n",
    "# Temp dynamics\n",
    "deltaT = dt/C*(P_rlx[:-1] - (T_rlx[:-1]-T_out)/R)\n",
    "constraints_rlx  += [T_rlx[1:] == T_rlx[:-1] + deltaT]\n",
    "# T0\n",
    "constraints_rlx  += [T_rlx[0] == T0]\n",
    "\n",
    "print('Constraints:')\n",
    "for c in constraints_rlx :\n",
    "    print(c.OP_NAME, end='')\n",
    "    print(' ' +  repr(c.args[0]))\n",
    "    print('   ' +  repr(c.args[1]))\n",
    "    print()"
   ]
  },
  {
   "cell_type": "markdown",
   "metadata": {},
   "source": [
    "Solve the Linear Program:"
   ]
  },
  {
   "cell_type": "code",
   "execution_count": null,
   "metadata": {
    "collapsed": false
   },
   "outputs": [],
   "source": [
    "prob_rlx  = cx.Problem(objective_rlx , constraints_rlx )\n",
    "result_rlx  = prob_rlx .solve()\n",
    "result_rlx "
   ]
  },
  {
   "cell_type": "code",
   "execution_count": null,
   "metadata": {
    "collapsed": false
   },
   "outputs": [],
   "source": [
    "ccom = T_diff.value.mean()*comfort_weight\n",
    "cener = P_rlx.value.mean()\n",
    "print('energy consum: {:.3f} kW avg'.format(cener))\n",
    "print('comfort violation penal: {:.3f} (with confort weight {} kW/°)'.format(\n",
    "        ccom, comfort_weight))\n",
    "print('LP avg cost: {:.6f}'.format(result_rlx /N_sim))"
   ]
  },
  {
   "cell_type": "markdown",
   "metadata": {},
   "source": [
    "Difference in the result:"
   ]
  },
  {
   "cell_type": "code",
   "execution_count": null,
   "metadata": {
    "collapsed": false
   },
   "outputs": [],
   "source": [
    "result_rlx - result"
   ]
  },
  {
   "cell_type": "code",
   "execution_count": null,
   "metadata": {
    "collapsed": false
   },
   "outputs": [],
   "source": [
    "print('max T_min violation: {:.4f} °C'.format(T_diff.value.max()))"
   ]
  },
  {
   "cell_type": "code",
   "execution_count": null,
   "metadata": {
    "collapsed": false
   },
   "outputs": [],
   "source": [
    "plot_traj(t, T_rlx.value, T_out, T_min, P_rlx.value);"
   ]
  },
  {
   "cell_type": "markdown",
   "metadata": {},
   "source": [
    "### Zoom at the difference"
   ]
  },
  {
   "cell_type": "code",
   "execution_count": null,
   "metadata": {
    "collapsed": true
   },
   "outputs": [],
   "source": [
    "t_zoom = (21.5, 22.5) # h"
   ]
  },
  {
   "cell_type": "code",
   "execution_count": null,
   "metadata": {
    "collapsed": false
   },
   "outputs": [],
   "source": [
    "plt.plot(t, T.value, 'kd--')\n",
    "plt.plot(t, T_rlx.value, 'd-')\n",
    "plt.plot(t, T_min)\n",
    "plt.xlim(*t_zoom)\n",
    "plt.ylim(T_pres-0.5, T_pres+0.2);"
   ]
  },
  {
   "cell_type": "code",
   "execution_count": null,
   "metadata": {
    "collapsed": false
   },
   "outputs": [],
   "source": [
    "plt.plot(t, T_diff.value)\n",
    "plt.xlim(*t_zoom);"
   ]
  },
  {
   "cell_type": "code",
   "execution_count": null,
   "metadata": {
    "collapsed": false,
    "scrolled": true
   },
   "outputs": [],
   "source": [
    "plt.plot(t, P.value, 'd-', lw=0.8);\n",
    "plt.plot(t, P_rlx.value, 'rd-')\n",
    "plt.xlim(*t_zoom);"
   ]
  },
  {
   "cell_type": "markdown",
   "metadata": {},
   "source": [
    "Observation:\n",
    "\n",
    "with `comfort_weight = 10`, there is a small trade off of energy against comfort near the end of the problem (-0.063 °C loss at 21.9 h). Energy consumption is slighlty reduced, but total LP cost is the same however (at least 4 digits)\n",
    "\n",
    "with `comfort_weight = 100`, it becomes negligible"
   ]
  },
  {
   "cell_type": "markdown",
   "metadata": {},
   "source": [
    "## Closing the loop\n",
    "\n",
    "To be done..."
   ]
  }
 ],
 "metadata": {
  "kernelspec": {
   "display_name": "Python 2",
   "language": "python",
   "name": "python2"
  },
  "language_info": {
   "codemirror_mode": {
    "name": "ipython",
    "version": 2
   },
   "file_extension": ".py",
   "mimetype": "text/x-python",
   "name": "python",
   "nbconvert_exporter": "python",
   "pygments_lexer": "ipython2",
   "version": "2.7.11"
  }
 },
 "nbformat": 4,
 "nbformat_minor": 0
}
